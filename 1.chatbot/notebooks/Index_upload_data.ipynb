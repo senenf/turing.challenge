{
 "cells": [
  {
   "cell_type": "markdown",
   "id": "2fa296d3",
   "metadata": {},
   "source": [
    "### Load document into index"
   ]
  },
  {
   "cell_type": "code",
   "execution_count": 16,
   "id": "627707ad",
   "metadata": {},
   "outputs": [
    {
     "name": "stdout",
     "output_type": "stream",
     "text": [
      "✅ Indexed 1 documents into 'knowledge_base'\n"
     ]
    }
   ],
   "source": [
    "import sys\n",
    "import os\n",
    "from dotenv import load_dotenv\n",
    "\n",
    "load_dotenv(\"../src/utils/.env\")\n",
    "sys.path.append(os.path.abspath(\"../src\"))\n",
    "\n",
    "from pipeline.loader import load_pdf_chunks\n",
    "from pipeline.indexer import index_documents\n",
    "\n",
    "pdf_path = \"../sample_data/Certificado_Senen Fernandez_UPM.pdf\"\n",
    "\n",
    "chunks = load_pdf_chunks(pdf_path)\n",
    "index_documents(chunks, persist_directory=\"../src/db\", collection_name=\"knowledge_base\" )"
   ]
  },
  {
   "cell_type": "markdown",
   "id": "a992da1a",
   "metadata": {},
   "source": [
    "### Load image Document into Index"
   ]
  },
  {
   "cell_type": "code",
   "execution_count": 17,
   "id": "b16734c0",
   "metadata": {},
   "outputs": [
    {
     "name": "stdout",
     "output_type": "stream",
     "text": [
      "Requirement already satisfied: openai in /opt/anaconda3/envs/turing-challenge/lib/python3.10/site-packages (1.98.0)\n",
      "Requirement already satisfied: pillow in /opt/anaconda3/envs/turing-challenge/lib/python3.10/site-packages (11.3.0)\n",
      "Requirement already satisfied: python-dotenv in /opt/anaconda3/envs/turing-challenge/lib/python3.10/site-packages (1.1.1)\n",
      "Requirement already satisfied: anyio<5,>=3.5.0 in /opt/anaconda3/envs/turing-challenge/lib/python3.10/site-packages (from openai) (4.9.0)\n",
      "Requirement already satisfied: distro<2,>=1.7.0 in /opt/anaconda3/envs/turing-challenge/lib/python3.10/site-packages (from openai) (1.9.0)\n",
      "Requirement already satisfied: httpx<1,>=0.23.0 in /opt/anaconda3/envs/turing-challenge/lib/python3.10/site-packages (from openai) (0.28.1)\n",
      "Requirement already satisfied: jiter<1,>=0.4.0 in /opt/anaconda3/envs/turing-challenge/lib/python3.10/site-packages (from openai) (0.10.0)\n",
      "Requirement already satisfied: pydantic<3,>=1.9.0 in /opt/anaconda3/envs/turing-challenge/lib/python3.10/site-packages (from openai) (2.11.7)\n",
      "Requirement already satisfied: sniffio in /opt/anaconda3/envs/turing-challenge/lib/python3.10/site-packages (from openai) (1.3.1)\n",
      "Requirement already satisfied: tqdm>4 in /opt/anaconda3/envs/turing-challenge/lib/python3.10/site-packages (from openai) (4.67.1)\n",
      "Requirement already satisfied: typing-extensions<5,>=4.11 in /opt/anaconda3/envs/turing-challenge/lib/python3.10/site-packages (from openai) (4.12.2)\n",
      "Requirement already satisfied: exceptiongroup>=1.0.2 in /opt/anaconda3/envs/turing-challenge/lib/python3.10/site-packages (from anyio<5,>=3.5.0->openai) (1.2.0)\n",
      "Requirement already satisfied: idna>=2.8 in /opt/anaconda3/envs/turing-challenge/lib/python3.10/site-packages (from anyio<5,>=3.5.0->openai) (3.10)\n",
      "Requirement already satisfied: certifi in /opt/anaconda3/envs/turing-challenge/lib/python3.10/site-packages (from httpx<1,>=0.23.0->openai) (2025.7.14)\n",
      "Requirement already satisfied: httpcore==1.* in /opt/anaconda3/envs/turing-challenge/lib/python3.10/site-packages (from httpx<1,>=0.23.0->openai) (1.0.9)\n",
      "Requirement already satisfied: h11>=0.16 in /opt/anaconda3/envs/turing-challenge/lib/python3.10/site-packages (from httpcore==1.*->httpx<1,>=0.23.0->openai) (0.16.0)\n",
      "Requirement already satisfied: annotated-types>=0.6.0 in /opt/anaconda3/envs/turing-challenge/lib/python3.10/site-packages (from pydantic<3,>=1.9.0->openai) (0.7.0)\n",
      "Requirement already satisfied: pydantic-core==2.33.2 in /opt/anaconda3/envs/turing-challenge/lib/python3.10/site-packages (from pydantic<3,>=1.9.0->openai) (2.33.2)\n",
      "Requirement already satisfied: typing-inspection>=0.4.0 in /opt/anaconda3/envs/turing-challenge/lib/python3.10/site-packages (from pydantic<3,>=1.9.0->openai) (0.4.1)\n"
     ]
    }
   ],
   "source": [
    "# 📦 Install required packages (only run once)\n",
    "!pip install openai pillow python-dotenv\n",
    "\n",
    "# 🧠 Import libraries\n",
    "import os\n",
    "import sys\n",
    "import re\n",
    "import base64\n",
    "import openai\n",
    "from PIL import Image\n",
    "from typing import List\n",
    "from dotenv import load_dotenv\n",
    "from langchain.schema import Document\n",
    "\n",
    "# 🌍 Load environment variables (expects OPENAI_API_KEY in .env)\n",
    "load_dotenv(\"../src/utils/.env\")\n",
    "openai.api_key = os.getenv(\"OPENAI_API_KEY\")\n",
    "\n",
    "# 📂 Load helper functions from your pipeline\n",
    "sys.path.append(os.path.abspath(\"../src\"))\n",
    "from pipeline.indexer import index_documents\n",
    "\n",
    "# 🧠 Generate caption using GPT-4V\n",
    "def caption_image_with_gpt4v(image_path: str) -> str:\n",
    "    with open(image_path, \"rb\") as img_file:\n",
    "        img_base64 = base64.b64encode(img_file.read()).decode(\"utf-8\")\n",
    "\n",
    "    response = openai.chat.completions.create(\n",
    "        model=\"gpt-4.1-mini\",\n",
    "        messages=[\n",
    "            {\"role\": \"system\", \"content\": \"You are a helpful assistant that describes images accurately.\"},\n",
    "            {\n",
    "                \"role\": \"user\",\n",
    "                \"content\": [\n",
    "                    {\"type\": \"text\", \"text\": \"Describe this image in one or two sentences.\"},\n",
    "                    {\"type\": \"image_url\", \"image_url\": {\"url\": f\"data:image/jpeg;base64,{img_base64}\"}}\n",
    "                ]\n",
    "            }\n",
    "        ],\n",
    "        max_tokens=100\n",
    "    )\n",
    "    return response.choices[0].message.content.strip()\n",
    "\n",
    "# 🧾 Extract page number from filename\n",
    "def extract_page_number(filename: str) -> int:\n",
    "    match = re.search(r'page(\\d+)', filename)\n",
    "    return int(match.group(1)) if match else -1\n",
    "\n",
    "# 🗂️ Process images in a folder (or single image)\n",
    "def process_images(folder_path: str, specific_image: str = None) -> List[Document]:\n",
    "    if specific_image:\n",
    "        image_files = [os.path.join(folder_path, specific_image)]\n",
    "    else:\n",
    "        image_files = [\n",
    "            os.path.join(folder_path, f)\n",
    "            for f in os.listdir(folder_path)\n",
    "            if f.lower().endswith((\".jpg\", \".jpeg\", \".png\"))\n",
    "        ]\n",
    "\n",
    "    documents = []\n",
    "    for image_path in image_files:\n",
    "        filename = os.path.basename(image_path)\n",
    "        page = extract_page_number(filename)\n",
    "        print(f\"📄 Processing: {filename} (page {page})\")\n",
    "\n",
    "        try:\n",
    "            caption = caption_image_with_gpt4v(image_path)\n",
    "        except Exception as e:\n",
    "            print(f\"⚠️ Error processing {filename}: {e}\")\n",
    "            continue\n",
    "\n",
    "        if not caption.strip():\n",
    "            print(f\"⚠️ Empty caption for {filename}. Skipping.\")\n",
    "            continue\n",
    "        print(caption)\n",
    "        doc = Document(\n",
    "            page_content=caption,\n",
    "            metadata={\n",
    "                \"page_number\": page,\n",
    "                \"image_file\": filename,\n",
    "                \"source\": os.path.splitext(filename)[0].split(\"_extracted_images\")[0] + \".pdf\",  # match PDF source\n",
    "                \"type\": \"image\",\n",
    "                \"path\": image_path  # helpful if showing image\n",
    "            }\n",
    "        )\n",
    "        documents.append(doc)\n",
    "\n",
    "    return documents\n",
    "\n",
    "# ✅ Index image documents into ChromaDB\n",
    "def index_image_documents(folder_path: str, specific_image: str = None, collection_name: str = \"knowledge_base\"):\n",
    "    image_docs = process_images(folder_path, specific_image)\n",
    "\n",
    "    valid_docs = [doc for doc in image_docs if doc.page_content and doc.page_content.strip()]\n",
    "    if not valid_docs:\n",
    "        print(\"⚠️ No valid documents to index.\")\n",
    "        return\n",
    "\n",
    "    index_documents(valid_docs, persist_directory=\"../src/db\", collection_name=collection_name)\n",
    "    print(f\"✅ Indexed {len(valid_docs)} image documents into '{collection_name}' collection.\")\n"
   ]
  },
  {
   "cell_type": "code",
   "execution_count": 18,
   "id": "845ad603",
   "metadata": {},
   "outputs": [
    {
     "name": "stdout",
     "output_type": "stream",
     "text": [
      "📄 Processing: image_page1_1.jpeg (page 1)\n",
      "The image shows a soldier in camouflage uniform and helmet preparing to launch a small gray drone with highlighted internal components, standing in an open field with tall grass and a cloudy sky in the background.\n",
      "✅ Indexed 1 documents into 'knowledge_base'\n",
      "✅ Indexed 1 image documents into 'knowledge_base' collection.\n"
     ]
    }
   ],
   "source": [
    "\n",
    "# 🔍 Example usage:\n",
    "# To ingest all images in the folder\n",
    "# index_image_documents(\"../sample_data/pdf_with_images_extracted_images\")\n",
    "\n",
    "# To ingest a single image\n",
    "index_image_documents(\"../sample_data/pdf_with_images_extracted_images\", specific_image=\"image_page1_1.jpeg\")\n"
   ]
  }
 ],
 "metadata": {
  "kernelspec": {
   "display_name": "turing-challenge",
   "language": "python",
   "name": "python3"
  },
  "language_info": {
   "codemirror_mode": {
    "name": "ipython",
    "version": 3
   },
   "file_extension": ".py",
   "mimetype": "text/x-python",
   "name": "python",
   "nbconvert_exporter": "python",
   "pygments_lexer": "ipython3",
   "version": "3.10.18"
  }
 },
 "nbformat": 4,
 "nbformat_minor": 5
}
