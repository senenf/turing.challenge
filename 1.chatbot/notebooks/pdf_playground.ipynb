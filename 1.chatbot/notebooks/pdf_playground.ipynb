{
 "cells": [
  {
   "cell_type": "markdown",
   "id": "9a38d3f0",
   "metadata": {},
   "source": [
    "### Dependencies"
   ]
  },
  {
   "cell_type": "code",
   "execution_count": 3,
   "id": "a323320e",
   "metadata": {},
   "outputs": [
    {
     "name": "stdout",
     "output_type": "stream",
     "text": [
      "Requirement already satisfied: pymupdf in /opt/anaconda3/envs/turing-challenge/lib/python3.10/site-packages (1.26.3)\n"
     ]
    }
   ],
   "source": [
    "# 📦 Install PyMuPDF if not already installed\n",
    "!pip install pymupdf\n",
    "\n",
    "import fitz  # PyMuPDF\n",
    "import os\n",
    "from urllib.parse import urlparse\n",
    "import requests"
   ]
  },
  {
   "cell_type": "markdown",
   "id": "b5307e4f",
   "metadata": {},
   "source": [
    "### Download pdf from uri"
   ]
  },
  {
   "cell_type": "code",
   "execution_count": null,
   "id": "90ec6ec5",
   "metadata": {},
   "outputs": [],
   "source": [
    "def download_pdf_from_uri(uri, download_folder=\"../sample_data\"):\n",
    "    parsed_uri = urlparse(uri)\n",
    "    os.makedirs(download_folder, exist_ok=True)\n",
    "\n",
    "    if parsed_uri.scheme in ['http', 'https']:\n",
    "        filename = os.path.basename(parsed_uri.path)\n",
    "        pdf_path = os.path.join(download_folder, filename)\n",
    "\n",
    "        response = requests.get(uri)\n",
    "        if response.status_code == 200:\n",
    "            with open(pdf_path, 'wb') as f:\n",
    "                f.write(response.content)\n",
    "            print(f\"Downloaded PDF to {pdf_path}\")\n",
    "        else:\n",
    "            raise Exception(f\"Failed to download PDF. HTTP status: {response.status_code}\")\n",
    "    else:\n",
    "        if not os.path.isfile(uri):\n",
    "            raise FileNotFoundError(f\"Local file not found: {uri}\")\n",
    "        pdf_path = uri\n",
    "\n",
    "    return pdf_path"
   ]
  },
  {
   "cell_type": "code",
   "execution_count": null,
   "id": "49cda9f5",
   "metadata": {},
   "outputs": [],
   "source": [
    "pdf_uri = \"\"\n",
    "pdf_file_path = download_pdf_from_uri(pdf_uri)"
   ]
  },
  {
   "cell_type": "markdown",
   "id": "833131a2",
   "metadata": {},
   "source": [
    "### Extract images from pdf"
   ]
  },
  {
   "cell_type": "code",
   "execution_count": 1,
   "id": "3f2d200c",
   "metadata": {},
   "outputs": [],
   "source": [
    "def extract_images_from_pdf(pdf_path, output_folder=None):\n",
    "    if output_folder is None:\n",
    "        pdf_name = os.path.splitext(os.path.basename(pdf_path))[0]\n",
    "        output_folder = os.path.join(os.path.dirname(pdf_path), f\"{pdf_name}_extracted_images\")\n",
    "    doc = fitz.open(pdf_path)\n",
    "    os.makedirs(output_folder, exist_ok=True)\n",
    "\n",
    "    image_count = 0\n",
    "    for page_num in range(len(doc)):\n",
    "        page = doc[page_num]\n",
    "        images = page.get_images(full=True)\n",
    "\n",
    "        for img_index, img in enumerate(images):\n",
    "            xref = img[0]\n",
    "            base_image = doc.extract_image(xref)\n",
    "            image_bytes = base_image[\"image\"]\n",
    "            image_ext = base_image[\"ext\"]\n",
    "\n",
    "            image_filename = f\"image_page{page_num+1}_{img_index+1}.{image_ext}\"\n",
    "            image_path = os.path.join(output_folder, image_filename)\n",
    "\n",
    "            with open(image_path, \"wb\") as f:\n",
    "                f.write(image_bytes)\n",
    "                image_count += 1\n",
    "\n",
    "    print(f\"✅ Extracted {image_count} images to '{output_folder}'\")\n",
    "\n"
   ]
  },
  {
   "cell_type": "code",
   "execution_count": 4,
   "id": "1e5d4406",
   "metadata": {},
   "outputs": [
    {
     "name": "stdout",
     "output_type": "stream",
     "text": [
      "MuPDF error: format error: cmsOpenProfileFromMem failed\n",
      "\n",
      "✅ Extracted 18 images to '../raw_data/Certificado_UC3M_extracted_images'\n"
     ]
    }
   ],
   "source": [
    "pdf_file_path = \"../raw_data/Certificado_UC3M.pdf\"\n",
    "extract_images_from_pdf(pdf_file_path)"
   ]
  }
 ],
 "metadata": {
  "kernelspec": {
   "display_name": "turing-challenge",
   "language": "python",
   "name": "python3"
  },
  "language_info": {
   "codemirror_mode": {
    "name": "ipython",
    "version": 3
   },
   "file_extension": ".py",
   "mimetype": "text/x-python",
   "name": "python",
   "nbconvert_exporter": "python",
   "pygments_lexer": "ipython3",
   "version": "3.10.18"
  }
 },
 "nbformat": 4,
 "nbformat_minor": 5
}
