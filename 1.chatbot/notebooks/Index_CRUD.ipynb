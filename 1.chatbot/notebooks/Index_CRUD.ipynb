{
 "cells": [
  {
   "cell_type": "markdown",
   "id": "7b944f65",
   "metadata": {},
   "source": [
    "## Create Chromadb database"
   ]
  },
  {
   "cell_type": "code",
   "execution_count": null,
   "id": "0e8b8742",
   "metadata": {},
   "outputs": [],
   "source": [
    "from langchain.vectorstores import Chroma\n",
    "from langchain.embeddings import OpenAIEmbeddings\n",
    "from langchain.docstore.document import Document\n",
    "import os\n",
    "import json\n",
    "from dotenv import load_dotenv\n",
    "\n",
    "load_dotenv(\"../src/utils/.env\")\n",
    "openai_api_key = os.getenv(\"OPENAI_API_KEY\")\n",
    "\n",
    "# Load and parse embedding model config\n",
    "embedding_json = os.getenv(\"EMBEDDING_MODELS_JSON\")\n",
    "if not embedding_json:\n",
    "    raise EnvironmentError(\"Missing EMBEDDING_MODELS_JSON in environment variables\")\n",
    "\n",
    "embedding_models = json.loads(embedding_json)\n",
    "EMBEDDING_MODEL = embedding_models.get(\"small\", os.getenv(\"DEFAULT_EMBEDDING_MODEL\"))\n",
    "\n",
    "\n",
    "# 🔐 Embedding function with ADA\n",
    "embedding = OpenAIEmbeddings(openai_api_key=openai_api_key, model=EMBEDDING_MODEL)\n",
    "\n",
    "# 🗂️ ChromaDB setup\n",
    "os.makedirs(\"../src/db\", exist_ok=True)\n",
    "persist_directory = \"../src/db\"\n",
    "collection_name = \"knowledge_base\"\n",
    "\n",
    "db = Chroma(\n",
    "    collection_name=collection_name,\n",
    "    embedding_function=embedding,\n",
    "    persist_directory=persist_directory\n",
    ")\n",
    "\n"
   ]
  },
  {
   "cell_type": "markdown",
   "id": "feb603f9",
   "metadata": {},
   "source": [
    "## Adding Documents (example)"
   ]
  },
  {
   "cell_type": "code",
   "execution_count": null,
   "id": "aa41e198",
   "metadata": {},
   "outputs": [],
   "source": [
    "# ✅ Create some sample docs\n",
    "docs = [\n",
    "    Document(\n",
    "        page_content=\"The moon is Earth's only natural satellite.\",\n",
    "        metadata={\"source\": \"test_doc1.pdf\", \"topic\": \"astronomy\"}\n",
    "    ),\n",
    "    Document(\n",
    "        page_content=\"The mitochondria is the powerhouse of the cell.\",\n",
    "        metadata={\"source\": \"test_doc2.pdf\", \"topic\": \"biology\"}\n",
    "    )\n",
    "]\n",
    "\n",
    "# Add to Chroma\n",
    "db.add_documents(docs)\n",
    "db.persist()\n",
    "print(\"✅ Documents added.\")\n"
   ]
  },
  {
   "cell_type": "markdown",
   "id": "1bc56050",
   "metadata": {},
   "source": [
    "## Reading (Search & Filter)"
   ]
  },
  {
   "cell_type": "code",
   "execution_count": null,
   "id": "c4898e53",
   "metadata": {},
   "outputs": [],
   "source": [
    "# 🔍 Basic semantic search\n",
    "query = \"Which image talks about a soldier?\"\n",
    "results = db.similarity_search(query, k=10)\n",
    "\n",
    "for i, doc in enumerate(results):\n",
    "    print(f\"\\nResult {i+1}\")\n",
    "    print(\"Content:\", doc.page_content)\n",
    "    print(\"Metadata:\", doc.metadata)\n",
    "\n",
    "# 📋 Read with metadata filter (only docs from test_doc2.pdf)\n",
    "results_filtered = db.similarity_search(\n",
    "    query,\n",
    "    k=5,\n",
    "    filter={\"source\": \"test_doc2.pdf\"}\n",
    ")\n",
    "\n",
    "for doc in results_filtered:\n",
    "    print(doc.page_content, \"|\", doc.metadata)\n",
    "\n"
   ]
  },
  {
   "cell_type": "markdown",
   "id": "29fd2114",
   "metadata": {},
   "source": [
    "## Update , overwriting by re-adding"
   ]
  },
  {
   "cell_type": "code",
   "execution_count": null,
   "id": "970ea515",
   "metadata": {},
   "outputs": [],
   "source": [
    "# ⚠️ To simulate update, remove + re-add with same metadata but new content\n",
    "# Let's \"update\" the mitochondria sentence\n",
    "\n",
    "# Step 1: Delete original (see below)\n",
    "# Step 2: Re-add with new content\n",
    "\n",
    "updated_doc = Document(\n",
    "    page_content=\"Mitochondria are responsible for energy production in cells.\",\n",
    "    metadata={\"source\": \"test_doc2.pdf\", \"topic\": \"biology\"}\n",
    ")\n",
    "\n",
    "db.add_documents([updated_doc])\n",
    "db.persist()\n",
    "print(\"✅ Document 'updated' by re-adding.\")\n"
   ]
  },
  {
   "cell_type": "markdown",
   "id": "db755f00",
   "metadata": {},
   "source": [
    "## Delete, by filter (source, topic)"
   ]
  },
  {
   "cell_type": "code",
   "execution_count": null,
   "id": "9087a393",
   "metadata": {},
   "outputs": [],
   "source": [
    "# Step 1: Get all document IDs\n",
    "all_docs = db.get()\n",
    "ids_to_delete = []\n",
    "\n",
    "for idx, metadata in zip(all_docs['ids'], all_docs['metadatas']):\n",
    "    if metadata.get(\"source\") == \"test_doc2.pdf\":\n",
    "        ids_to_delete.append(idx)\n",
    "\n",
    "# Step 2: Delete those IDs\n",
    "if ids_to_delete:\n",
    "    db.delete(ids=ids_to_delete)\n",
    "    print(f\"🗑️ Deleted {len(ids_to_delete)} documents from test_doc2.pdf\")\n",
    "else:\n",
    "    print(\"⚠️ No documents matched the deletion criteria.\")\n"
   ]
  },
  {
   "cell_type": "markdown",
   "id": "4912e3fb",
   "metadata": {},
   "source": [
    "## Delete the whole database"
   ]
  },
  {
   "cell_type": "code",
   "execution_count": null,
   "id": "140becad",
   "metadata": {},
   "outputs": [],
   "source": [
    "\n",
    "# Optional: Delete entire index (dangerous!)\n",
    "import shutil\n",
    "import glob\n",
    "shutil.rmtree(persist_directory)\n",
    "print(\"💥 Entire Chroma index deleted.\")\n",
    "\n",
    "sample_data_folder = \"../sample_data\"\n",
    "files = glob.glob(f\"{sample_data_folder}/*\")\n",
    "for f in files:\n",
    "    try:\n",
    "        os.remove(f)\n",
    "    except IsADirectoryError:\n",
    "        shutil.rmtree(f)\n",
    "print(f\"🗑️ Deleted all files in {sample_data_folder}\")"
   ]
  },
  {
   "cell_type": "markdown",
   "id": "9b50dbce",
   "metadata": {},
   "source": [
    "## Count indexed documents"
   ]
  },
  {
   "cell_type": "code",
   "execution_count": null,
   "id": "84f5cff7",
   "metadata": {},
   "outputs": [],
   "source": [
    "print(\"📦 Total indexed docs:\", db._collection.count())\n"
   ]
  },
  {
   "cell_type": "markdown",
   "id": "b13f215e",
   "metadata": {},
   "source": [
    "## Query whole database"
   ]
  },
  {
   "cell_type": "code",
   "execution_count": null,
   "id": "c9add17a",
   "metadata": {},
   "outputs": [],
   "source": [
    "# Get all documents from the Chroma collection\n",
    "all_docs = db.get()\n",
    "\n",
    "# Print document IDs and contents\n",
    "for i, doc in enumerate(all_docs[\"documents\"]):\n",
    "    print(f\"\\n📄 Document {i+1}:\")\n",
    "    print(f\"ID: {all_docs['ids'][i]}\")\n",
    "    print(f\"Content: {doc}\")\n"
   ]
  },
  {
   "cell_type": "code",
   "execution_count": null,
   "id": "ac281355",
   "metadata": {},
   "outputs": [],
   "source": [
    "# Get all documents from the Chroma collection\n",
    "all_docs = db.get()\n",
    "\n",
    "# Print document IDs, content, and metadata\n",
    "for i, content in enumerate(all_docs[\"documents\"]):\n",
    "    print(f\"\\n📄 Document {i+1}:\")\n",
    "    print(f\"ID: {all_docs['ids'][i]}\")\n",
    "    print(f\"source: {all_docs['metadatas'][i].get('source', 'N/A')}\")\n",
    "    print(f\"page_number: {all_docs['metadatas'][i].get('page_number', 'N/A')}\")\n",
    "    print(f\"image_file: {all_docs['metadatas'][i].get('image_file', 'N/A')}\")\n",
    "    print(f\"Content: {content}\")\n"
   ]
  }
 ],
 "metadata": {
  "kernelspec": {
   "display_name": "turing-challenge",
   "language": "python",
   "name": "python3"
  },
  "language_info": {
   "codemirror_mode": {
    "name": "ipython",
    "version": 3
   },
   "file_extension": ".py",
   "mimetype": "text/x-python",
   "name": "python",
   "nbconvert_exporter": "python",
   "pygments_lexer": "ipython3",
   "version": "3.10.18"
  }
 },
 "nbformat": 4,
 "nbformat_minor": 5
}
